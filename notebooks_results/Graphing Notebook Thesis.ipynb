{
 "cells": [
  {
   "cell_type": "code",
   "execution_count": 84,
   "metadata": {},
   "outputs": [],
   "source": [
    "import re\n",
    "import pandas as pd\n",
    "import numpy as np\n",
    "import matplotlib.pyplot as plt\n",
    "import matplotlib as mpl\n",
    "\n",
    "file_names = ['MCTS-Results', 'OMCTS-Results', 'DDO-MCTS-Results']\n",
    "file_names = ['MCTS-Results', 'OMCTS-Redone-Results-Synthesized', 'DDO-MCTS-Results']\n",
    "num_games = 12\n",
    "controllers = ['MCTS' , 'O-MCTS', 'DDO-MCTS']\n",
    "# file_names = ['controller_gamma_honours_results', '90_gamma_honours_results', '95_gamma_honours_results']\n",
    "# num_games = 7\n",
    "# controllers = ['$\\gamma_d = 0.9$' , '$\\gamma_f = 0.9$', '$\\gamma_f = 0.95$']\n",
    "\n",
    "WIN_RATIO_MODE = False\n",
    "output_file_name = 'mean_scores_main'\n",
    "graph_title = 'Normalised Mean Scores by Controller'"
   ]
  },
  {
   "cell_type": "code",
   "execution_count": 85,
   "metadata": {},
   "outputs": [],
   "source": [
    "def read_results(file_name):\n",
    "    result_patt = r'Result \\(1->win; 0->lose\\): Player0:([-]*[0-9]+), Player0-Score:([-]*[0-9]+.[0-9]+), timesteps:([0-9]+)'\n",
    "    game_patt = r'Game played: ([a-z]+)'\n",
    "    curr_game = None\n",
    "    \n",
    "    res = {}\n",
    "    count = 1\n",
    "    tot_score = 0\n",
    "    wins = 0\n",
    "    losses = 0\n",
    "    tot_timesteps = 0\n",
    "    \n",
    "    with open(file_name) as fd:\n",
    "        for line in fd:\n",
    "            game_match = re.search(game_patt, line, re.IGNORECASE)\n",
    "            res_match = re.search(result_patt, line, re.IGNORECASE)\n",
    "            if game_match is not None:\n",
    "                curr_game = game_match.group(1)\n",
    "                count = 1\n",
    "                tot_score = 0\n",
    "                wins = 0\n",
    "                losses = 0\n",
    "                tot_timesteps = 0\n",
    "            if res_match is not None:\n",
    "                outcome = float(res_match.group(1))\n",
    "                player_score = float(res_match.group(2))\n",
    "                timesteps = int(res_match.group(3))\n",
    "                if outcome > 0:\n",
    "                    wins += 1\n",
    "                else:\n",
    "                    losses += 1\n",
    "                    \n",
    "                tot_score += player_score\n",
    "                tot_timesteps += timesteps\n",
    "                count+=1\n",
    "                if count > 100:\n",
    "                    res[curr_game] = (wins, losses, tot_score/100, tot_timesteps/100)\n",
    "                    \n",
    "    return res\n",
    "\n",
    "\n",
    "def normalize(a, axis=-1, order=2):\n",
    "    l2 = np.atleast_1d(np.linalg.norm(a, order, axis))\n",
    "    l2[l2==0] = 1\n",
    "    return a / np.expand_dims(l2, axis)\n",
    " \n",
    "def get_stats(res):\n",
    "    ratios = []\n",
    "    scores = []\n",
    "    timesteps = []\n",
    "    names = []\n",
    "    for game, (wins, losses, avg_score, avg_timesteps) in res.items():\n",
    "        if wins == 0:\n",
    "            ratios.append(0)\n",
    "        elif losses == 0:\n",
    "            ratios.append(1)\n",
    "        else:\n",
    "            ratios.append(wins/100)\n",
    "        scores.append(avg_score)\n",
    "        timesteps.append(avg_timesteps)\n",
    "        names.append(game)\n",
    "#         print(game)\n",
    "#         print('Wins: ' + str(wins))\n",
    "#         print('Losses: ' + str(losses))\n",
    "#         print('Avg score: ' + str(avg_score))\n",
    "#         print('Avg timesteps: ' + str(avg_timesteps))\n",
    "#     norm_scores = \n",
    "#     print(scores)\n",
    "#     print(norm_scores)\n",
    "\n",
    "    return (ratios, scores, timesteps, names)\n",
    "\n",
    "def graph_results(files, nm_gms, setting, output_name, plt_title, rotate_label=0):\n",
    "    \n",
    "    stats = []\n",
    "    for file in files:\n",
    "        dic = read_results(file)\n",
    "        stats.append(get_stats(dic))\n",
    "    \n",
    "    print(\"FIRST STATS\")\n",
    "    print(stats)\n",
    "    \n",
    "    game_avg_scores = {}\n",
    "    for stat in stats:\n",
    "        for i, game in enumerate(stat[3]):\n",
    "            avg_score = stat[1][i]\n",
    "            if game not in game_avg_scores:\n",
    "                score_list = [avg_score]\n",
    "                game_avg_scores[game] = score_list\n",
    "            else:\n",
    "                score_list = game_avg_scores[game]\n",
    "                score_list.append(avg_score)\n",
    "                game_avg_scores[game] = score_list\n",
    "    \n",
    "    i = 0\n",
    "    \n",
    "    for key, scores in game_avg_scores.items():\n",
    "        normalized_scores = normalize(scores)[0]\n",
    "        for j, new_score in enumerate(normalized_scores):\n",
    "            curr_agent_scores = stats[j][1]\n",
    "            curr_agent_scores[i] = new_score\n",
    "            stats[j] = (stats[j][0], curr_agent_scores, stats[j][2], stats[j][3])\n",
    "            \n",
    "        i+=1\n",
    "            \n",
    "    print(\"SECOND STATS\")\n",
    "    print(stats)\n",
    "    \n",
    "    bar_width = 0.25\n",
    "    r1 = np.arange(nm_gms)\n",
    "    r2 = [x + bar_width for x in r1]\n",
    "    r3 = [x + bar_width for x in r2]\n",
    "    i = 0\n",
    "    fig, ax = plt.subplots(figsize=(18,7))\n",
    "    font = {'family' : 'normal',\n",
    "        'weight' : 'normal',\n",
    "        'size'   : 16}\n",
    "    mpl.rc('font', **font)\n",
    "    \n",
    "    print(\"THIRD STATS\")\n",
    "    print(stats[1])\n",
    "    for stat in stats:\n",
    "        if i == 0:\n",
    "            r = r1\n",
    "        elif i== 1:\n",
    "            r = r2\n",
    "        elif i == 2:\n",
    "            r = r3\n",
    "        \n",
    "        if setting:\n",
    "            data = stat[0]\n",
    "        else:\n",
    "            data = stat[1]\n",
    "        plt.bar(r, height=data, width=bar_width, label=controllers[i])\n",
    "        ax.legend(fontsize=14)\n",
    "        plt.xticks(np.arange(nm_gms), stat[3], rotation=rotate_label)\n",
    "        if setting:\n",
    "            plt.ylabel('Win Ratio out of 100 Games')\n",
    "        else:\n",
    "            plt.ylabel('Normalized Mean Score out of 100 Games')\n",
    "        i+=1\n",
    "    plt.title(plt_title)\n",
    "    plt.savefig(output_name + '.pdf')\n",
    "\n",
    "\n",
    "#         if i == 0:\n",
    "#             r = r1\n",
    "#         elif i== 1:\n",
    "#             r = r2\n",
    "#         elif i == 2:\n",
    "#             r = r3\n",
    "        \n",
    "#         if setting:\n",
    "#             data = stats[0]\n",
    "#         else:\n",
    "#             data = stats[1]\n",
    "#         plt.bar(r, height=data, width=bar_width, label=controllers[i])\n",
    "#         ax.legend(fontsize=14)\n",
    "#         plt.xticks(np.arange(nm_gms), stats[3], rotation=rotate_label)\n",
    "#         if setting:\n",
    "#             plt.ylabel('Win Ratio out of 100 Games')\n",
    "#         else:\n",
    "#             plt.ylabel('Normalized Mean Score out of 100 Games')\n",
    "#         i+=1\n",
    "#     plt.title(plt_title)\n",
    "#     plt.savefig(output_name + '.pdf')  \n",
    "    \n",
    "# def get_stats(res):\n",
    "#     ratios = []\n",
    "#     scores = []\n",
    "#     timesteps = []\n",
    "#     names = []\n",
    "#     for game, (wins, losses, avg_score, avg_timesteps) in res.items():\n",
    "#         if wins == 0:\n",
    "#             ratios.append(0)\n",
    "#         elif losses == 0:\n",
    "#             ratios.append(1)\n",
    "#         else:\n",
    "#             ratios.append(wins/100)\n",
    "#         scores.append(avg_score)\n",
    "#         timesteps.append(avg_timesteps)\n",
    "#         names.append(game)\n",
    "# #         print(game)\n",
    "# #         print('Wins: ' + str(wins))\n",
    "# #         print('Losses: ' + str(losses))\n",
    "# #         print('Avg score: ' + str(avg_score))\n",
    "# #         print('Avg timesteps: ' + str(avg_timesteps))\n",
    "# #     norm_scores = \n",
    "# #     print(scores)\n",
    "# #     print(norm_scores)\n",
    "\n",
    "#     return (ratios, normalized(scores)[0], timesteps, names)\n",
    "\n",
    "# def graph_results(files, nm_gms, setting, output_name, plt_title, rotate_label=0):\n",
    "#     bar_width = 0.25\n",
    "#     r1 = np.arange(nm_gms)\n",
    "#     r2 = [x + bar_width for x in r1]\n",
    "#     r3 = [x + bar_width for x in r2]\n",
    "#     i = 0\n",
    "#     fig, ax = plt.subplots(figsize=(18,6))\n",
    "#     font = {'family' : 'normal',\n",
    "#         'weight' : 'normal',\n",
    "#         'size'   : 16}\n",
    "#     mpl.rc('font', **font)\n",
    "#     for file in files:\n",
    "#         dic = read_results(file)\n",
    "#         stats = get_stats(dic)\n",
    "#         if i == 0:\n",
    "#             r = r1\n",
    "#         elif i== 1:\n",
    "#             r = r2\n",
    "#         elif i == 2:\n",
    "#             r = r3\n",
    "        \n",
    "#         if setting:\n",
    "#             data = stats[0]\n",
    "#         else:\n",
    "#             data = stats[1]\n",
    "#         plt.bar(r, height=data, width=bar_width, label=controllers[i])\n",
    "#         ax.legend(fontsize=14)\n",
    "#         plt.xticks(np.arange(nm_gms), stats[3], rotation=rotate_label)\n",
    "#         if setting:\n",
    "#             plt.ylabel('Win Ratio out of 100 Games')\n",
    "#         else:\n",
    "#             plt.ylabel('Normalized Mean Score out of 100 Games')\n",
    "#         i+=1\n",
    "#     plt.title(plt_title)\n",
    "#     plt.savefig(output_name + '.pdf')"
   ]
  },
  {
   "cell_type": "code",
   "execution_count": 86,
   "metadata": {},
   "outputs": [
    {
     "name": "stdout",
     "output_type": "stream",
     "text": [
      "FIRST STATS\n",
      "[([1, 0.97, 0.73, 0.07, 0.97, 0.13, 0, 0, 0.37, 0.04, 0.11, 0.05], [1.0, 16.16, 5.56, -0.73, 2873.36, 0.13, 102.39, 4.46, 4.59, 3.34, 16.44, 0.05], [0.03, 670.16, 146.28, 436.82, 991.48, 397.02, 520.86, 1220.08, 1676.81, 1872.18, 289.09, 1641.01], ['surround', 'infection', 'missilecommand', 'camelRace', 'seaquest', 'frogs', 'pacman', 'roguelike', 'zelda', 'chase', 'eggomania', 'portals']), ([1, 1, 0.96, 1, 0.76, 0.13, 0, 0, 0.43, 0.24, 0.38, 0.12], [1.0, 17.49, 8.13, 1.0, 3611.5, -59.87, -929.68, -369.15, 4.33, 4.03, 45.46, -69.88], [0.0, 439.26, 97.98, 47.16, 819.39, 294.66, 37.62, 257.07, 980.63, 562.62, 252.7, 236.49], ['surround', 'infection', 'missilecommand', 'camelRace', 'seaquest', 'frogs', 'pacman', 'roguelike', 'zelda', 'chase', 'eggomania', 'portals']), ([1, 1, 0.96, 1, 0.78, 0.18, 0, 0, 0.54, 0.24, 0.37, 0.06], [1.0, 16.19, 6.81, 1.0, 3580.87, -119.82, -929.65, -529.25, 4.4, 3.68, 50.33, -99.94], [0.0, 406.34, 99.56, 47.2, 834.31, 288.47, 45.9, 231.23, 856.01, 580.99, 269.22, 233.95], ['surround', 'infection', 'missilecommand', 'camelRace', 'seaquest', 'frogs', 'pacman', 'roguelike', 'zelda', 'chase', 'eggomania', 'portals'])]\n",
      "SECOND STATS\n",
      "[([1, 0.97, 0.73, 0.07, 0.97, 0.13, 0, 0, 0.37, 0.04, 0.11, 0.05], [0.5773502691896258, 0.5612052350924398, 0.4643233329491376, -0.45868426083207015, 0.4918971772070168, 0.0009705475269490327, 0.07764313093621365, 0.006911637792435328, 0.596672762510073, 0.5220094704427766, 0.23557955423384164, 0.00041001212292155647], [0.03, 670.16, 146.28, 436.82, 991.48, 397.02, 520.86, 1220.08, 1676.81, 1872.18, 289.09, 1641.01], ['surround', 'infection', 'missilecommand', 'camelRace', 'seaquest', 'frogs', 'pacman', 'roguelike', 'zelda', 'chase', 'eggomania', 'portals']), ([1, 1, 0.96, 1, 0.76, 0.13, 0, 0, 0.43, 0.24, 0.38, 0.12], [0.5773502691896258, 0.6073935372380428, 0.6789476073518865, 0.6283346038795482, 0.6182610795316776, -0.446974464911066, -0.7049835527764342, -0.5720697513626685, 0.5628743053744262, 0.6298497502647874, 0.6514261882889563, -0.5730329429951673], [0.0, 439.26, 97.98, 47.16, 819.39, 294.66, 37.62, 257.07, 980.63, 562.62, 252.7, 236.49], ['surround', 'infection', 'missilecommand', 'camelRace', 'seaquest', 'frogs', 'pacman', 'roguelike', 'zelda', 'chase', 'eggomania', 'portals']), ([1, 1, 0.96, 1, 0.78, 0.18, 0, 0, 0.54, 0.24, 0.37, 0.06], [0.5773502691896258, 0.5622470764942203, 0.5687125714718754, 0.6283346038795482, 0.6130174586356357, -0.894546189838716, -0.704960803543813, -0.8201758523870847, 0.5719738899878696, 0.575148159050724, 0.7212116158509275, -0.819532231295607], [0.0, 406.34, 99.56, 47.2, 834.31, 288.47, 45.9, 231.23, 856.01, 580.99, 269.22, 233.95], ['surround', 'infection', 'missilecommand', 'camelRace', 'seaquest', 'frogs', 'pacman', 'roguelike', 'zelda', 'chase', 'eggomania', 'portals'])]\n",
      "THIRD STATS\n",
      "([1, 1, 0.96, 1, 0.76, 0.13, 0, 0, 0.43, 0.24, 0.38, 0.12], [0.5773502691896258, 0.6073935372380428, 0.6789476073518865, 0.6283346038795482, 0.6182610795316776, -0.446974464911066, -0.7049835527764342, -0.5720697513626685, 0.5628743053744262, 0.6298497502647874, 0.6514261882889563, -0.5730329429951673], [0.0, 439.26, 97.98, 47.16, 819.39, 294.66, 37.62, 257.07, 980.63, 562.62, 252.7, 236.49], ['surround', 'infection', 'missilecommand', 'camelRace', 'seaquest', 'frogs', 'pacman', 'roguelike', 'zelda', 'chase', 'eggomania', 'portals'])\n"
     ]
    },
    {
     "data": {
      "image/png": "[encoded data removed]",
      "text/plain": [
       "<Figure size 1296x504 with 1 Axes>"
      ]
     },
     "metadata": {
      "needs_background": "light"
     },
     "output_type": "display_data"
    }
   ],
   "source": [
    "graph_results(file_names, num_games, WIN_RATIO_MODE, output_file_name, graph_title, 20)"
   ]
  },
  {
   "cell_type": "code",
   "execution_count": null,
   "metadata": {},
   "outputs": [],
   "source": []
  },
  {
   "cell_type": "code",
   "execution_count": 5,
   "metadata": {},
   "outputs": [
    {
     "data": {
      "text/plain": [
       "'Result (1->win; 0->lose): Player0:1, Player0-Score:1.0, timesteps:0'"
      ]
     },
     "execution_count": 5,
     "metadata": {},
     "output_type": "execute_result"
    }
   ],
   "source": []
  },
  {
   "cell_type": "code",
   "execution_count": 6,
   "metadata": {},
   "outputs": [
    {
     "ename": "SyntaxError",
     "evalue": "EOL while scanning string literal (<ipython-input-6-372cbd4301e0>, line 16)",
     "output_type": "error",
     "traceback": [
      "\u001b[0;36m  File \u001b[0;32m\"<ipython-input-6-372cbd4301e0>\"\u001b[0;36m, line \u001b[0;32m16\u001b[0m\n\u001b[0;31m    match = re.search(r'Game played)\u001b[0m\n\u001b[0m                                    ^\u001b[0m\n\u001b[0;31mSyntaxError\u001b[0m\u001b[0;31m:\u001b[0m EOL while scanning string literal\n"
     ]
    }
   ],
   "source": [
    "res = {}\n",
    "\n",
    "with open(file_names[0]) as fd:\n",
    "    line = fd.readline()\n",
    "    count = 0\n",
    "    wins = 0\n",
    "    losses = 0\n",
    "    tot_score = 0\n",
    "    tot_timesteps = 0\n",
    "    \n",
    "    game_nm = 1\n",
    "    \n",
    "    while line is not '':\n",
    "        match = re.search(r'Game played: ([a-z]+)')\n",
    "        while match is None:\n",
    "            match = re.search(r'Game played)\n",
    "        match = re.search(pattern, line)\n",
    "        if match is not None:\n",
    "            if count > 99:\n",
    "                count = 0\n",
    "                res[\"game\" + str(game_nm)] = (wins, losses, tot_score/100, tot_timesteps/100)\n",
    "                wins = 0\n",
    "                losses = 0\n",
    "                tot_score = 0\n",
    "                tot_timesteps = 0\n",
    "                game_nm += 1\n",
    "            player_won = match.group(1)\n",
    "            if int(player_won) == 1:\n",
    "                wins += 1\n",
    "            else:\n",
    "                losses += 1\n",
    "                \n",
    "            score = match.group(2)\n",
    "            tot_score += float(score)\n",
    "            \n",
    "            timesteps = match.group(3)\n",
    "            tot_timesteps += float(timesteps)\n",
    "            \n",
    "            count+=1\n",
    "            \n",
    "        line = fd.readline()\n",
    "#     print(line)\n",
    "#         match = re.search(pattern, line)\n",
    "#         print(match.group(3))\n",
    "\n",
    "print(res)"
   ]
  },
  {
   "cell_type": "code",
   "execution_count": 132,
   "metadata": {},
   "outputs": [
    {
     "data": {
      "text/plain": [
       "[100,\n",
       " 100,\n",
       " 100,\n",
       " 100,\n",
       " 100,\n",
       " 9.0,\n",
       " 0.26582278481012656,\n",
       " 0.28205128205128205,\n",
       " 49.0,\n",
       " 0.6666666666666666,\n",
       " 1.564102564102564,\n",
       " 0.041666666666666664]"
      ]
     },
     "execution_count": 132,
     "metadata": {},
     "output_type": "execute_result"
    }
   ],
   "source": [
    "def get_ratios(res):\n",
    "    ratios = []\n",
    "    scores = []\n",
    "    timesteps = []\n",
    "    names = []\n",
    "    for game, (wins, losses, avg_score, avg_timesteps) in res.items():\n",
    "        if wins == 0:\n",
    "            ratios.append(0)\n",
    "        elif losses == 0:\n",
    "            ratios.append(100)\n",
    "        else:\n",
    "            ratios.append(wins/losses)\n",
    "        scores.append(avg_score)\n",
    "        timesteps.append(avg_timesteps)\n",
    "        names.append(game)\n",
    "    #     print(game)\n",
    "    #     print('Wins: ' + str(wins))\n",
    "    #     print('Losses: ' + str(losses))\n",
    "    #     print('Avg score: ' + str(avg_score))\n",
    "    #     print('Avg timesteps: ' + str(avg_timesteps))\n",
    "\n",
    "    return ratios"
   ]
  },
  {
   "cell_type": "code",
   "execution_count": 136,
   "metadata": {},
   "outputs": [
    {
     "data": {
      "text/plain": [
       "<BarContainer object of 12 artists>"
      ]
     },
     "execution_count": 136,
     "metadata": {},
     "output_type": "execute_result"
    },
    {
     "data": {
      "image/png": "[encoded data removed]",
      "text/plain": [
       "<Figure size 432x288 with 1 Axes>"
      ]
     },
     "metadata": {
      "needs_background": "light"
     },
     "output_type": "display_data"
    }
   ],
   "source": [
    "plt.bar(names, height=ratios)"
   ]
  },
  {
   "cell_type": "code",
   "execution_count": 138,
   "metadata": {},
   "outputs": [
    {
     "data": {
      "text/plain": [
       "<BarContainer object of 12 artists>"
      ]
     },
     "execution_count": 138,
     "metadata": {},
     "output_type": "execute_result"
    },
    {
     "data": {
      "image/png": "[encoded data removed]",
      "text/plain": [
       "<Figure size 432x288 with 1 Axes>"
      ]
     },
     "metadata": {
      "needs_background": "light"
     },
     "output_type": "display_data"
    }
   ],
   "source": [
    "plt.bar(names, height=scores)"
   ]
  },
  {
   "cell_type": "code",
   "execution_count": 137,
   "metadata": {},
   "outputs": [
    {
     "data": {
      "text/plain": [
       "<BarContainer object of 12 artists>"
      ]
     },
     "execution_count": 137,
     "metadata": {},
     "output_type": "execute_result"
    },
    {
     "data": {
      "image/png": "[encoded data removed]",
      "text/plain": [
       "<Figure size 432x288 with 1 Axes>"
      ]
     },
     "metadata": {
      "needs_background": "light"
     },
     "output_type": "display_data"
    }
   ],
   "source": [
    "plt.bar(names, height=timesteps)"
   ]
  },
  {
   "cell_type": "code",
   "execution_count": null,
   "metadata": {},
   "outputs": [],
   "source": []
  }
 ],
 "metadata": {
  "kernelspec": {
   "display_name": "Python 3",
   "language": "python",
   "name": "python3"
  },
  "language_info": {
   "codemirror_mode": {
    "name": "ipython",
    "version": 3
   },
   "file_extension": ".py",
   "mimetype": "text/x-python",
   "name": "python",
   "nbconvert_exporter": "python",
   "pygments_lexer": "ipython3",
   "version": "3.6.8"
  }
 },
 "nbformat": 4,
 "nbformat_minor": 2
}

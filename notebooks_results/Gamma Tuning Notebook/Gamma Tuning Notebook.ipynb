{
 "cells": [
  {
   "cell_type": "markdown",
   "metadata": {},
   "source": [
    "This notebook is created for discount factor tuning for per-decision option discounting in DDO-MCTS. It parses a file specified by the FILE_NAME variable and also takes in a gamma factor, where default gamma = 0.9.\n",
    "\n",
    "It outputs a new gamma factor for each option individually, based on the average distance of each option."
   ]
  },
  {
   "cell_type": "code",
   "execution_count": 38,
   "metadata": {},
   "outputs": [],
   "source": [
    "import re\n",
    "import numpy as np\n",
    "\n",
    "FILE_NAME = 'more_options_durations.txt'\n",
    "GAMMA = .9"
   ]
  },
  {
   "cell_type": "code",
   "execution_count": 39,
   "metadata": {},
   "outputs": [],
   "source": [
    "def read_options_count_file(file):\n",
    "    options_count = {}\n",
    "    op_patt = r'(GoToNearestSpriteOfItypeOption)|(GoToMovableOption)|(GoToPositionOption)|(GoNearMovableOption)'\n",
    "    step_patt = r' [0-9]+'\n",
    "    with open(FILE_NAME) as fd:\n",
    "        for line in fd:\n",
    "            match = re.search(op_patt, line)\n",
    "            if match is not None:\n",
    "                option_name = match.group(0)\n",
    "                match = re.search(step_patt, line)\n",
    "                steps = int(match.group(0))\n",
    "                if option_name in options_count:\n",
    "                    (cum_steps, count) = options_count.get(option_name)\n",
    "                    options_count[option_name] = (cum_steps + steps, count+1)\n",
    "                else:\n",
    "                    options_count[option_name] = (steps, 1)\n",
    "    return options_count\n",
    "\n",
    "def sort_options_by_avg(file):\n",
    "    options_count = read_options_count_file(file)\n",
    "    unsorted_avg = {}\n",
    "    for option, (cum_steps, count) in options_count.items():\n",
    "        unsorted_avg[option] = cum_steps/count\n",
    "    \n",
    "    sorted_avg = sorted(unsorted_avg.items(), key=lambda kv: kv[1])\n",
    "    return sorted_avg\n",
    "\n",
    "def normalized(a, axis=-1, order=2):\n",
    "    l2 = np.atleast_1d(np.linalg.norm(a, order, axis))\n",
    "    l2[l2==0] = 1\n",
    "    return a / np.expand_dims(l2, axis)\n",
    "\n",
    "def calc_gamma(norm_vals, gamma):\n",
    "    gammas = np.full(len(norm_vals), gamma)\n",
    "    max_stretch = np.full(len(norm_vals), 1 - gamma)\n",
    "    final_gammas = (max_stretch * norm_vals) + gammas\n",
    "    return np.round_(final_gammas, decimals=2)\n",
    "\n",
    "def print_gammas(gammas, sorted_avg):\n",
    "    i = 0\n",
    "    for (key, value) in sorted_avg:\n",
    "        print(key + ': ' + str(gammas[i]))\n",
    "        i+=1\n",
    "\n",
    "def run(file, gamma):\n",
    "    sorted_avg = sort_options_by_avg(file)\n",
    "    sorted_values = np.array([value for (key, value) in sorted_avg])\n",
    "    normalized_values = normalized(sorted_values)\n",
    "    gammas = calc_gamma(normalized_values, gamma)\n",
    "    print_gammas(gammas[0], sorted_avg)\n",
    "    "
   ]
  },
  {
   "cell_type": "code",
   "execution_count": 40,
   "metadata": {},
   "outputs": [
    {
     "name": "stdout",
     "output_type": "stream",
     "text": [
      "GoToNearestSpriteOfItypeOption: 0.91\n",
      "GoToPositionOption: 0.94\n",
      "GoToMovableOption: 0.95\n",
      "GoNearMovableOption: 0.98\n"
     ]
    }
   ],
   "source": [
    "# The new decision step discounts for each option where GAMMA_F = 0.9\n",
    "run(FILE_NAME, GAMMA)"
   ]
  },
  {
   "cell_type": "code",
   "execution_count": 41,
   "metadata": {},
   "outputs": [
    {
     "name": "stdout",
     "output_type": "stream",
     "text": [
      "GoToNearestSpriteOfItypeOption: 0.95\n",
      "GoToPositionOption: 0.97\n",
      "GoToMovableOption: 0.97\n",
      "GoNearMovableOption: 0.99\n"
     ]
    }
   ],
   "source": [
    "# The new decision step discounts for each option where GAMMA_F = 0.95\n",
    "run(FILE_NAME, 0.95)"
   ]
  },
  {
   "cell_type": "code",
   "execution_count": null,
   "metadata": {},
   "outputs": [],
   "source": []
  },
  {
   "cell_type": "code",
   "execution_count": null,
   "metadata": {},
   "outputs": [],
   "source": []
  },
  {
   "cell_type": "code",
   "execution_count": null,
   "metadata": {},
   "outputs": [],
   "source": []
  },
  {
   "cell_type": "code",
   "execution_count": null,
   "metadata": {},
   "outputs": [],
   "source": []
  },
  {
   "cell_type": "code",
   "execution_count": null,
   "metadata": {},
   "outputs": [],
   "source": []
  }
 ],
 "metadata": {
  "kernelspec": {
   "display_name": "Python 3",
   "language": "python",
   "name": "python3"
  },
  "language_info": {
   "codemirror_mode": {
    "name": "ipython",
    "version": 3
   },
   "file_extension": ".py",
   "mimetype": "text/x-python",
   "name": "python",
   "nbconvert_exporter": "python",
   "pygments_lexer": "ipython3",
   "version": "3.7.3"
  }
 },
 "nbformat": 4,
 "nbformat_minor": 2
}
